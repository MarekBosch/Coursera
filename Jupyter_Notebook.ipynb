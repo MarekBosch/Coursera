{
 "cells": [
  {
   "cell_type": "markdown",
   "metadata": {},
   "source": [
    "<center>\n",
    "    <img src=\"https://cf-courses-data.s3.us.cloud-object-storage.appdomain.cloud/IBMDeveloperSkillsNetwork-DS0105EN-SkillsNetwork/labs/Module2/images/SN_web_lightmode.png\" width=\"300\" alt=\"cognitiveclass.ai logo\">\n",
    "</center>\n"
   ]
  },
  {
   "cell_type": "markdown",
   "metadata": {},
   "source": [
    "#### Add your code below following the instructions given in the course\n"
   ]
  },
  {
   "cell_type": "markdown",
   "metadata": {},
   "source": [
    "# Final project"
   ]
  },
  {
   "cell_type": "markdown",
   "metadata": {},
   "source": [
    "## Introduction to project"
   ]
  },
  {
   "cell_type": "markdown",
   "metadata": {},
   "source": [
    "## Data Science languages"
   ]
  },
  {
   "cell_type": "markdown",
   "metadata": {},
   "source": [
    "python, R, Java"
   ]
  },
  {
   "cell_type": "markdown",
   "metadata": {},
   "source": [
    "## Data Science Libraries"
   ]
  },
  {
   "cell_type": "markdown",
   "metadata": {},
   "source": [
    "Scikit-learn, Keras, TensorFlow"
   ]
  },
  {
   "cell_type": "markdown",
   "metadata": {},
   "source": [
    "## Data Science tool table"
   ]
  },
  {
   "cell_type": "markdown",
   "metadata": {},
   "source": [
    "| Tool              | Category               | Description                                                        |\n",
    "|-------------------|------------------------|--------------------------------------------------------------------|\n",
    "| Python            | Programming Language   | A versatile language for data manipulation, analysis, and machine learning. |\n",
    "| R                 | Programming Language   | A language designed for statistical computing and data visualization. |\n",
    "| SQL               | Database Language      | A language used for querying and managing relational databases.   |\n",
    "| Jupyter Notebook  | IDE/Notebook           | An interactive development environment for running Python/R code. |\n",
    "| Pandas            | Python Library         | A library for data manipulation and analysis, particularly with DataFrames. |\n",
    "| NumPy             | Python Library         | A library for numerical computing and working with arrays.        |\n",
    "| Matplotlib        | Python Library         | A library for creating static, animated, and interactive visualizations. |\n",
    "| Seaborn           | Python Library         | A data visualization library based on Matplotlib, providing a high-level interface for statistical graphics. |\n",
    "| TensorFlow        | Python Library         | A deep learning library for building and training neural networks. |\n",
    "| PyTorch           | Python Library         | A deep learning library, known for its flexibility and dynamic computation graph. |\n",
    "| Hadoop            | Big Data Framework     | A framework for distributed storage and processing of large datasets. |\n",
    "| Apache Spark      | Big Data Framework     | A unified analytics engine for big data processing, with built-in machine learning libraries. |\n",
    "| Tableau           | Data Visualization     | A visual analytics platform used for business intelligence and interactive dashboards. |\n",
    "| Power BI          | Data Visualization     | A Microsoft tool for transforming, analyzing, and visualizing data. |\n",
    "| SAS               | Software Suite         | A software suite for advanced analytics, statistical analysis, and predictive modeling. |\n"
   ]
  },
  {
   "cell_type": "markdown",
   "metadata": {},
   "source": [
    "## Introduction to arithmetic expression examples"
   ]
  },
  {
   "cell_type": "code",
   "execution_count": 2,
   "metadata": {},
   "outputs": [
    {
     "data": {
      "text/plain": [
       "56"
      ]
     },
     "execution_count": 2,
     "metadata": {},
     "output_type": "execute_result"
    }
   ],
   "source": [
    "6*6+20"
   ]
  },
  {
   "cell_type": "code",
   "execution_count": 4,
   "metadata": {},
   "outputs": [
    {
     "name": "stdout",
     "output_type": "stream",
     "text": [
      "120 minutes is equal to 2.0 hours.\n"
     ]
    }
   ],
   "source": [
    "# Function to convert minutes to hours\n",
    "def minutes_to_hours(minutes):\n",
    "    hours = minutes / 60\n",
    "    return hours\n",
    "\n",
    "# Example usage\n",
    "minutes = 120  \n",
    "hours = minutes_to_hours(minutes)\n",
    "print(f\"{minutes} minutes is equal to {hours} hours.\")\n"
   ]
  },
  {
   "cell_type": "markdown",
   "metadata": {},
   "source": [
    "## Objectives"
   ]
  },
  {
   "cell_type": "markdown",
   "metadata": {},
   "source": [
    "## Authors name"
   ]
  },
  {
   "cell_type": "markdown",
   "metadata": {},
   "source": [
    "Marek"
   ]
  },
  {
   "cell_type": "code",
   "execution_count": null,
   "metadata": {},
   "outputs": [],
   "source": []
  }
 ],
 "metadata": {
  "kernelspec": {
   "display_name": "Python 3 (ipykernel)",
   "language": "python",
   "name": "python3"
  },
  "language_info": {
   "codemirror_mode": {
    "name": "ipython",
    "version": 3
   },
   "file_extension": ".py",
   "mimetype": "text/x-python",
   "name": "python",
   "nbconvert_exporter": "python",
   "pygments_lexer": "ipython3",
   "version": "3.12.8"
  }
 },
 "nbformat": 4,
 "nbformat_minor": 4
}
